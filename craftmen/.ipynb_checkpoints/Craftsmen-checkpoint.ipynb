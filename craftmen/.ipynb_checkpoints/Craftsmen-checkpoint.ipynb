{
 "cells": [
  {
   "cell_type": "code",
   "execution_count": 2,
   "id": "89c2ccf7-b97a-477e-82bb-5b364c8d9cab",
   "metadata": {},
   "outputs": [],
   "source": [
    "import requests as re\n",
    "url=\"http://localhost:3272/step1\"\n",
    "header = {\n",
    "    \"email\": \"sakifrafid04@gmail.com\",\n",
    "    \"craftsmen-api-key\": \"UGxlYXNlRG9uJ3RDaGFuZ2VUaGlzVmFsdWU=\"\n",
    "}\n",
    "re.get(url,header)\n",
    " "
   ]
  },
  {
   "cell_type": "code",
   "execution_count": null,
   "id": "a6fc495a-e1dd-4d4c-b83c-9494320c2fa8",
   "metadata": {},
   "outputs": [],
   "source": []
  }
 ],
 "metadata": {
  "kernelspec": {
   "display_name": "Python 3 (ipykernel)",
   "language": "python",
   "name": "python3"
  },
  "language_info": {
   "codemirror_mode": {
    "name": "ipython",
    "version": 3
   },
   "file_extension": ".py",
   "mimetype": "text/x-python",
   "name": "python",
   "nbconvert_exporter": "python",
   "pygments_lexer": "ipython3",
   "version": "3.10.4"
  }
 },
 "nbformat": 4,
 "nbformat_minor": 5
}
