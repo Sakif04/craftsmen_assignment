{
 "cells": [
  {
   "cell_type": "code",
   "execution_count": 21,
   "id": "89c2ccf7-b97a-477e-82bb-5b364c8d9cab",
   "metadata": {},
   "outputs": [
    {
     "name": "stdout",
     "output_type": "stream",
     "text": [
      "JSON Response  {'instruction': 'Congratulations, you\\'re now a step closer to becoming part of the Step2! In this JSON object, there is a property called instructions that you are currently reading. Another property is called the problem, which contains a string with angular brackets. You need to find the maximum depth of nested angular brackets in this problem string. For example the maximum depth for this < <<>> <<>> > is three. The maximum depth of <<><><<<>>><<>>> is four. You need to write a small function to find out the maximum depth of the string as can be found in the problem property of this JSON object. Once you have found the maximum depth then you need to do a POST operation on the  http://localhost:3272/step1  with the same set of headers that you have used earlier. The BODY of the POST operation shall contain the integer value of the maximum depth divided by two. So if you find the maximum depth is 539 then your body should like this {\"depth\": 269}. Remember you need pass the value by dividing it by two. After completing this step successfully, you will get instructions for how to proceed on to step three.', 'problem': '<<<<<<<<<<<<<<<<>>>>>><<<<<<<<<<<<<<<<>>>>>><<<<<<<<<<<<<<<<>>>>>><<<<<<<<<<<<<<<<>>>>>><<<<<<<<<<<<<<<<>>>>>><<<<<<<<<<<<<<<<>>>>>><<<<<<<<<<<<<<<<>>>>>><<<<<<<<<<<<<<<<>>>>>><<<<<<<<<<<<<<<<>>>>>><<<<<<<<<<<<<<<<>>>>>><<<<<<<<<<<<<<<<>>>>>><<<<<<<<<<<<<<<<>>>>>><<<<<<<<<<<<<<<<>>>>>><<<<<<<<<<<<<<<<>>>>>><<<<<<<<<<<<<<<<>>>>>><<<<<<<<<<<<<<<<>>>>>><<<<<<<<<<<<<<<<>>>>>><<<<<<<<<<<<<<<<>>>>>><<<<<<<<<<<<<<<<>>>>>><<<<<<<<<<<<<<<<>>>>>><<<<<<<<<<<<<<<<>>>>>><<<<<<<<<<<<<<<<>>>>>><<<<<<<<<<<<<<<<>>>>>><<<<<<<<<<<<<<<<>>>>>><<<<<<<<<<<<<<<<>>>>>><<<<<<<<<<<<<<<<>>>>>><<<<<<<<<<<<<<<<>>>>>><<<<<<<<<<<<<<<<>>>>>><<<<<<<<<<<<<<<<>>>>>><<<<<<<<<<<<<<<<>>>>>><<<<<<<<<<<<<<<<>>>>>><<<<<<<<<<<<<<<<>>>>>><<<<<<<<<<<<<<<<>>>>>><<<<<<<<<<<<<<<<>>>>>><<<<<<<<<<<<<<<<>>>>>><<<<<<<<<<<<<<<<>>>>>><<<<<<<<<<<<<<<<>>>>>><<<<<<<<<<<<<<<<>>>>>><<<<<<<<<<<<<<<<>>>>>><<<<<<<<<<<<<<<<>>>>>><<<<<<<<<<<<<<<<>>>>>><<<<<<<<<<<<<<<<>>>>>><<<<<<<<<<<<<<<<>>>>>><<<<<<<<<<<<<<<<>>>>>><<<<<<<<<<<<<<<<>>>>>><<<<<<<<<<<<<<<<>>>>>><<<<<<<<<<<<<<<<>>>>>><<<<<<<<<<<<<<<<>>>>>><<<<<<<<<<<<<<<<>>>>>><<<<<<<<<<<<<<<<>>>>>><<<<<<<<<<<<<<<<>>>>>><<<<<<<<<<<<<<<<>>>>>><<<<<<<<<<<<<<<<>>>>>><<<<<<<<<<<<<<<<>>>>>><<<<<<<<<<<<<<<<>>>>>><<<<<<<<<<<<<<<<>>>>>><<<<<<<<<<<<<<<<>>>>>><<<<<<<<<<<<<<<<>>>>>><<<<<<<<<<<<<<<<>>>>>><<<<<<<<<<<<<<<<>>>>>><<<<<<<<<<<<<<<<>>>>>><<<<<<<<<<<<<<<<>>>>>><<<<<<<<<<<<<<<<>>>>>><<<<<<<<<<<<<<<<>>>>>><<<<<<<<<<<<<<<<>>>>>><<<<<<<<<<<<<<<<>>>>>><<<<<<<<<<<<<<<<>>>>>><<<<<<<<<<<<<<<<>>>>>><<<<<<<<<<<<<<<<>>>>>><<<<<<<<<<<<<<<<>>>>>><<<<<<<<<<<<<<<<>>>>>><<<<<<<<<<<<<<<<>>>>>><<<<<<<<<<<<<<<<>>>>>><<<<<<<<<<<<<<<<>>>>>><<<<<<<<<<<<<<<<>>>>>><<<<<<<<<<<<<<<<>>>>>><<<<<<<<<<<<<<<<>>>>>><<<<<<<<<<<<<<<<>>>>>><<<<<<<<<<<<<<<<>>>>>><<<<<<<<<<<<<<<<>>>>>><<<<<<<<<<<<<<<<>>>>>><<<<<<<<<<<<<<<<>>>>>><<<<<<<<<<<<<<<<>>>>>><<<<<<<<<<<<<<<<>>>>>><<<<<<<<<<<<<<<<>>>>>><<<<<<<<<<<<<<<<>>>>>><<<<<<<<<<<<<<<<>>>>>><<<<<<<<<<<<<<<<>>>>>><<<<<<<<<<<<<<<<>>>>>><<<<<<<<<<<<<<<<>>>>>><<<<<<<<<<<<<<<<>>>>>><<<<<<<<<<<<<<<<>>>>>><<<<<<<<<<<<<<<<>>>>>><<<<<<<<<<<<<<<<>>>>>><<<<<<<<<<<<<<<<>>>>>><<<<<<<<<<<<<<<<>>>>>><<<<<<<<<<<<<<<<>>>>>><<<<<<<<<<<<<<<<>>>>>><<<<<<<<<<<<<<<<>>>>>><<<<<<<<<<<<<<<<>>>>>><<<<<<<<<<<<<<<<>>>>>><<<<<<<<<<<<<<<<>>>>>><<<<<<<<<<<<<<<<>>>>>><<<<<<<<<<<<<<<<>>>>>><<<<<<<<<<<<<<<<>>>>>><<<<<<<<<<<<<<<<>>>>>><<<<<<<<<<<<<<<<>>>>>><<<<<<<<<<<<<<<<>>>>>><<<<<<<<<<<<<<<<>>>>>><<<<<<<<<<<<<<<<>>>>>><<<<<<<<<<<<<<<<>>>>>><<<<<<<<<<<<<<<<>>>>>><<<<<<<<<<<<<<<<>>>>>><<<<<<<<<<<<<<<<>>>>>><<<<<<<<<<<<<<<<>>>>>><<<<<<<<<<<<<<<<>>>>>><<<<<<<<<<<<<<<<>>>>>><<<<<<<<<<<<<<<<>>>>>><<<<<<<<<<<<<<<<>>>>>><<<<<<<<<<<<<<<<>>>>>><<<<<<<<<<<<<<<<>>>>>><<<<<<<<<<<<<<<<>>>>>><<<<<<<<<<<<<<<<>>>>>><<<<<<<<<<<<<<<<>>>>>><<<<<<<<<<<<<<<<>>>>>><<<<<<<<<<<<<<<<>>>>>><<<<<<<<<<<<<<<<>>>>>><<<<<<<<<<<<<<<<>>>>>><<<<<<<<<<<<<<<<>>>>>><<<<<<<<<<<<<<<<>>>>>><<<<<<<<<<<<<<<<>>>>>><<<<<<<<<<<<<<<<>>>>>><<<<<<<<<<<<<<<<>>>>>><<<<<<<<<<<<<<<<>>>>>><<<<<<<<<<<<<<<<>>>>>><<<<<<<<<<<<<<<<>>>>>><<<<<<<<<<<<<<<<>>>>>><<<<<<<<<<<<<<<<>>>>>><<<<<<<<<<<<<<<<>>>>>><<<<<<<<<<<<<<<<>>>>>><<<<<<<<<<<<<<<<>>>>>><<<<<<<<<<<<<<<<>>>>>><<<<<<<<<<<<<<<<>>>>>><<<<<<<<<<<<<<<<>>>>>><<<<<<<<<<<<<<<<>>>>>><<<<<<<<<<<<<<<<>>>>>><<<<<<<<<<<<<<<<>>>>>><<<<<<<<<<<<<<<<>>>>>><<<<<<<<<<<<<<<<>>>>>><<<<<<<<<<<<<<<<>>>>>><<<<<<<<<<<<<<<<>>>>>><<<<<<<<<<<<<<<<>>>>>><<<<<<<<<<<<<<<<>>>>>><<<<<<<<<<<<<<<<>>>>>><<<<<<<<<<<<<<<<>>>>>><<<<<<<<<<<<<<<<>>>>>><<<<<<<<<<<<<<<<>>>>>><<<<<<<<<<<<<<<<>>>>>><<<<<<<<<<<<<<<<>>>>>><<<<<<<<<<<<<<<<>>>>>><<<<<<<<<<<<<<<<>>>>>><<<<<<<<<<<<<<<<>>>>>><<<<<<<<<<<<<<<<>>>>>><<<<<<<<<<<<<<<<>>>>>><<<<<<<<<<<<<<<<>>>>>><<<<<<<<<<<<<<<<>>>>>><<<<<<<<<<<<<<<<>>>>>><<<<<<<<<<<<<<<<>>>>>><<<<<<<<<<<<<<<<>>>>>><<<<<<<<<<<<<<<<>>>>>><<<<<<<<<<<<<<<<>>>>>><<<<<<<<<<<<<<<<>>>>>><<<<<<<<<<<<<<<<>>>>>><<<<<<<<<<<<<<<<>>>>>><<<<<<<<<<<<<<<<>>>>>><<<<<<<<<<<<<<<<>>>>>><<<<<<<<<<<<<<<<>>>>>><<<<<<<<<<<<<<<<>>>>>><<<<<<<<<<<<<<<<>>>>>><<<<<<<<<<<<<<<<>>>>>><<<<<<<<<<<<<<<<>>>>>><<<<<<<<<<<<<<<<>>>>>><<<<<<<<<<<<<<<<>>>>>><<<<<<<<<<<<<<<<>>>>>><<<<<<<<<<<<<<<<>>>>>><<<<<<<<<<<<<<<<>>>>>><<<<<<<<<<<<<<<<>>>>>><<<<<<<<<<<<<<<<>>>>>><<<<<<<<<<<<<<<<>>>>>><<<<<<<<<<<<<<<<>>>>>><<<<<<<<<<<<<<<<>>>>>><<<<<<<<<<<<<<<<>>>>>><<<<<<<<<<<<<<<<>>>>>><<<<<<<<<<<<<<<<>>>>>><<<<<<<<<<<<<<<<>>>>>><<<<<<<<<<<<<<<<>>>>>><<<<<<<<<<<<<<<<>>>>>><<<<<<<<<<<<<<<<>>>>>><<<<<<<<<<<<<<<<>>>>>><<<<<<<<<<<<<<<<>>>>>><<<<<<<<<<<<<<<<>>>>>><<<<<<<<<<<<<<<<>>>>>><<<<<<<<<<<<<<<<>>>>>><<<<<<<<<<<<<<<<>>>>>><<<<<<<<<<<<<<<<>>>>>><<<<<<<<<<<<<<<<>>>>>><<<<<<<<<<<<<<<<>>>>>><<<<<<<<<<<<<<<<>>>>>><<<<<<<<<<<<<<<<>>>>>><<<<<<<<<<<<<<<<>>>>>><<<<<<<<<<<<<<<<>>>>>><<<<<<<<<<<<<<<<>>>>>><<<<<<<<<<<<<<<<>>>>>><<<<<<<<<<<<<<<<>>>>>><<<<<<'}\n"
     ]
    }
   ],
   "source": [
    "import requests as re\n",
    "import json\n",
    "url=\"http://localhost:3272/step1\"\n",
    "header = {\n",
    "    \"email\": \"sakifrafid04@gmail.com\",\n",
    "    \"craftsmen-api-key\": \"UGxlYXNlRG9uJ3RDaGFuZ2VUaGlzVmFsdWU=\"\n",
    "}\n",
    "x=re.get(url,headers=header)\n",
    "print(\"JSON Response \", x.json())\n",
    "probdata=x.json()\n"
   ]
  },
  {
   "cell_type": "code",
   "execution_count": 22,
   "id": "d8114cd8-0d5a-40ec-9d77-dca13db269e5",
   "metadata": {},
   "outputs": [
    {
     "name": "stdout",
     "output_type": "stream",
     "text": [
      "2146\n"
     ]
    }
   ],
   "source": [
    "s=probdata['problem']\n",
    "\n",
    "\n",
    "\n",
    "\n",
    "stck=[]\n",
    "ans=0\n",
    "\n",
    "for character in s:\n",
    "    if character == '<':\n",
    "        stck.append(character)\n",
    "        if len(stck)>ans:\n",
    "            ans=len(stck)\n",
    "    else:\n",
    "        if len(stck)>0:\n",
    "            stck.pop()\n",
    "\n",
    "print(ans)\n"
   ]
  },
  {
   "cell_type": "code",
   "execution_count": 23,
   "id": "c7c51f6f-974e-4234-b7b0-f60b4004b5e2",
   "metadata": {},
   "outputs": [
    {
     "data": {
      "text/plain": [
       "{'instruction': 'Fantastic! You\\'re now in Step 3. This step is the easiest one in terms of technical difficulty. Here You need to find the count of left and right angular brackets in the problem string you got in the earlier step by writing a recursive code. It\\'s a recursive function, so if you use a loop, you won\\'t get any credit for these steps. Once you have found the counts of left and right angular brackets, find their difference and write a POST request to http://localhost:3272/step2 with the same headers as before. The BODY of this POST should have value = {\"difference\": 50},  where assuming that 50 is the difference of number of occurrences for both left & right angular brackets. Once you complete this step successfully, you will get an instruction for the next step. To complete the next step, it will take at most 3 minutes to complete :).'}"
      ]
     },
     "execution_count": 23,
     "metadata": {},
     "output_type": "execute_result"
    }
   ],
   "source": [
    "postdata={\"depth\": int(ans/2)}\n",
    "\n",
    "res=re.post(url,json=postdata,headers=header)\n",
    "res.json()"
   ]
  },
  {
   "cell_type": "code",
   "execution_count": 32,
   "id": "d17de981-4981-4300-9a7e-e80c24041fb3",
   "metadata": {},
   "outputs": [
    {
     "name": "stdout",
     "output_type": "stream",
     "text": [
      "2146\n"
     ]
    }
   ],
   "source": [
    "\n",
    "\n",
    "\n",
    "bracketString=probdata['problem']\n",
    "def count(l, r, bracketString):\n",
    "    if l==r:\n",
    "        if bracketString[l]=='<':\n",
    "            return 1\n",
    "        elif bracketString[l]=='>':\n",
    "            return -1\n",
    "        else:\n",
    "            return 0\n",
    "    \n",
    "    mid=int((l+r)/2)\n",
    "    return count(l, mid, bracketString)+count(mid+1, r, bracketString)\n",
    "\n",
    "\n",
    "\n",
    "ans=abs(count(0, len(bracketString)-1, bracketString))\n",
    "print(ans)\n",
    "\n",
    "postData={\"difference\": ans}"
   ]
  },
  {
   "cell_type": "code",
   "execution_count": 35,
   "id": "89d6794f-08c3-425e-a3ad-a2b89a0c0271",
   "metadata": {},
   "outputs": [],
   "source": [
    "newurl=\"http://localhost:3272/step2\"\n",
    "data=re.post(newurl,headers=header,json=postData)"
   ]
  },
  {
   "cell_type": "code",
   "execution_count": 37,
   "id": "5b8027fa-3d95-4d9a-824b-5ebb0417c3f1",
   "metadata": {},
   "outputs": [
    {
     "data": {
      "text/plain": [
       "{'instruction': 'Kudos! You are now in the last step. To review, you need to attach all of your code files as attachments by replying to the mail that was sent to you as the first instruction. The email should contain all the code files that you wrote to find out the maximum depth of the nested angular brackets and the recursive code to find the difference between left and right angular brackets. To call these three rest API endpoints if you have done it programmatically using your favorite programming language or shell script, then please attach those as well. Any code submission after 11 PM will not be entertained. Please remember that we have tracked each of your steps and the time it took to complete each milestone. So if you submit the code without completing any of the steps, then it will not be counted. I hope you had a great journey so far as part of this screening test and experienced something new.'}"
      ]
     },
     "execution_count": 37,
     "metadata": {},
     "output_type": "execute_result"
    }
   ],
   "source": [
    "data.json()"
   ]
  },
  {
   "cell_type": "code",
   "execution_count": null,
   "id": "af584aeb-0d3d-478b-9839-674b60a7c5d7",
   "metadata": {},
   "outputs": [],
   "source": []
  }
 ],
 "metadata": {
  "kernelspec": {
   "display_name": "Python 3 (ipykernel)",
   "language": "python",
   "name": "python3"
  },
  "language_info": {
   "codemirror_mode": {
    "name": "ipython",
    "version": 3
   },
   "file_extension": ".py",
   "mimetype": "text/x-python",
   "name": "python",
   "nbconvert_exporter": "python",
   "pygments_lexer": "ipython3",
   "version": "3.10.4"
  }
 },
 "nbformat": 4,
 "nbformat_minor": 5
}
